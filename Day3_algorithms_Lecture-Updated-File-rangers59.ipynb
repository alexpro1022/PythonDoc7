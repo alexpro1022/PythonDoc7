{
 "cells": [
  {
   "cell_type": "markdown",
   "metadata": {},
   "source": [
    "# Algorithms, Binary Search & Linked Lists"
   ]
  },
  {
   "cell_type": "markdown",
   "metadata": {},
   "source": [
    "## Tasks Today:\n",
    " \n",
    "1) <b>In-Place Algorithms</b> <br>\n",
    " &nbsp;&nbsp;&nbsp;&nbsp; a) Syntax <br>\n",
    " &nbsp;&nbsp;&nbsp;&nbsp; a) Out of Place Algorithm <br>\n",
    " &nbsp;&nbsp;&nbsp;&nbsp; b) In-Class Exercise #1 <br>\n",
    "2) <b>Two Pointers</b> <br>\n",
    "3) <b>Linked Lists</b> <br>\n",
    "4) <b>Merge Sort</b> <br>\n",
    " &nbsp;&nbsp;&nbsp;&nbsp; a) Video on Algorithms <br>\n",
    " &nbsp;&nbsp;&nbsp;&nbsp; b) How it Works <br>\n",
    "5) <b>Exercises</b> <br>\n",
    " &nbsp;&nbsp;&nbsp;&nbsp; a) Exercise #1 - Reverse a List in Place Using an In-Place Algorithm <br>\n",
    " &nbsp;&nbsp;&nbsp;&nbsp; b) Exercise #2 - Find Distinct Words <br>\n",
    " &nbsp;&nbsp;&nbsp;&nbsp; c) Exercise #3 - Write a program to implement a Linear Search Algorithm. <br>"
   ]
  },
  {
   "cell_type": "markdown",
   "metadata": {},
   "source": [
    "## In-Place Algorithms"
   ]
  },
  {
   "cell_type": "markdown",
   "metadata": {},
   "source": [
    "#### Syntax"
   ]
  },
  {
   "cell_type": "code",
   "execution_count": 5,
   "metadata": {},
   "outputs": [
    {
     "name": "stdout",
     "output_type": "stream",
     "text": [
      "before swap: [20, 4, 10]\n",
      "after swap: [20, 10, 4]\n"
     ]
    }
   ],
   "source": [
    "# var [i], var [i+1] = var[i+1], var[i]\n",
    "#sometimes known as a swap algorithm\n",
    "def swap(a_list, x, y, z):\n",
    "    a_list[x], a_list[y], a_list[z] = a_list[z], a_list[y], a_list[x]\n",
    "    return a_list\n",
    "\n",
    "my_list = [20,4,10]\n",
    "print(f'before swap: {my_list}')\n",
    "\n",
    "#swap\n",
    "swap(my_list, 2, 0, 1)\n",
    "\n",
    "print(f'after swap: {my_list}')"
   ]
  },
  {
   "cell_type": "markdown",
   "metadata": {},
   "source": [
    "#### Out of Place Algorithm"
   ]
  },
  {
   "cell_type": "code",
   "execution_count": 9,
   "metadata": {},
   "outputs": [
    {
     "name": "stdout",
     "output_type": "stream",
     "text": [
      "before ['a', 'b', 'c', 'd']\n",
      "after ['d', 'c', 'b', 'a']\n"
     ]
    }
   ],
   "source": [
    "#not swapping, completely reversing BUT also copies to another place in memory\n",
    "\n",
    "my_list_copy = my_list[::-1]\n",
    "#print(my_list_copy)\n",
    "#print(my_list)\n",
    "\n",
    "array = ['a','b','c','d',]\n",
    "new_array = ['a'] * len(array)\n",
    "print('before', array)\n",
    "length = len(array) -1\n",
    "\n",
    "for i in range(length):\n",
    "    new_array[i] = array[length -i]\n",
    "    \n",
    "array = new_array\n",
    "print('after' , array)"
   ]
  },
  {
   "cell_type": "markdown",
   "metadata": {},
   "source": [
    "#### In-Class Exercise #1 <br>\n",
    "<p>Write a function that takes in four arguments (list, index1, index2, index3), and swaps those three positions in the list passed in.</p>"
   ]
  },
  {
   "cell_type": "code",
   "execution_count": 11,
   "metadata": {},
   "outputs": [
    {
     "name": "stdout",
     "output_type": "stream",
     "text": [
      "[3, 4, 10, 8, 4, 2, 6]\n"
     ]
    }
   ],
   "source": [
    "list_1 = [10, 4, 3, 8, 4, 2, 6]\n",
    "def swap(list, index1, index2, index3):\n",
    "    list[index1], list[index2], list[index3] = list[index3], list[index2], list[index1]\n",
    "    return list\n",
    "swap(list_1, 2,1,0) # 2,1,0 are the index's of the numbers in list_1\n",
    "print(list_1)\n",
    "    \n"
   ]
  },
  {
   "cell_type": "markdown",
   "metadata": {},
   "source": [
    "## Two Pointers"
   ]
  },
  {
   "cell_type": "markdown",
   "metadata": {},
   "source": [
    "#### Syntax"
   ]
  },
  {
   "cell_type": "code",
   "execution_count": 12,
   "metadata": {},
   "outputs": [
    {
     "data": {
      "text/plain": [
       "[9, 8, 7, 6, 5, 4, 3, 2, 1]"
      ]
     },
     "execution_count": 12,
     "metadata": {},
     "output_type": "execute_result"
    }
   ],
   "source": [
    "# alist[left], alist[right] = alist[right], alist[left]\n",
    "def twoPointers(alist):\n",
    "    #create the pointers\n",
    "    left = 0\n",
    "    right = len(alist) - 1\n",
    "    #set up a loop that works through our list and swaps things one pair at a time\n",
    "    while left <= right:\n",
    "        alist[left],alist[right] = alist[right],alist[left]\n",
    "        left += 1\n",
    "        right -= 1\n",
    "    return alist\n",
    "\n",
    "my_list2 = [1,2,3,4,5,6,7,8,9]\n",
    "twoPointers(my_list2)"
   ]
  },
  {
   "cell_type": "markdown",
   "metadata": {},
   "source": [
    "#### Video of Algorithms <br>\n",
    "<p>Watch the video about algorithms.</p>\n",
    "\n",
    "https://www.youtube.com/watch?v=Q9HjeFD62Uk\n",
    "\n",
    "https://www.youtube.com/watch?v=kPRA0W1kECg\n",
    "\n",
    "https://www.youtube.com/watch?v=ZZuD6iUe3Pc"
   ]
  },
  {
   "cell_type": "markdown",
   "metadata": {},
   "source": [
    "# Sorting Algorithms"
   ]
  },
  {
   "cell_type": "markdown",
   "metadata": {},
   "source": [
    "#### Bubble Sort\n",
    "\n",
    "Worst Case: O(n^2) Time - O(1) Space"
   ]
  },
  {
   "cell_type": "code",
   "execution_count": 4,
   "metadata": {},
   "outputs": [
    {
     "data": {
      "text/plain": [
       "[1, 22, 34, 44, 55, 56, 66, 88, 100]"
      ]
     },
     "execution_count": 4,
     "metadata": {},
     "output_type": "execute_result"
    }
   ],
   "source": [
    "# best case: O(n) - linear\n",
    "def swap(i,j,array):\n",
    "    array[i], array[j] = array[j], array[i]\n",
    "    \n",
    "def bubbleSort(array):\n",
    "    isSorted = False\n",
    "    while not isSorted:\n",
    "        isSorted = True\n",
    "        for num in range(len(array) -1):\n",
    "            if array[num] > array[num+1]:\n",
    "                swap(num,num +1, array)\n",
    "                isSorted = False\n",
    "    return array\n",
    "bubbleSort([22,55,88,44,66,1,100,34,56])\n"
   ]
  },
  {
   "cell_type": "markdown",
   "metadata": {},
   "source": [
    "##### Insertion Sort\n",
    "\n",
    "Worst Case: O(n^2) time - O(1)space"
   ]
  },
  {
   "cell_type": "code",
   "execution_count": 6,
   "metadata": {},
   "outputs": [
    {
     "data": {
      "text/plain": [
       "[1, 22, 34, 44, 55, 56, 66, 88, 100]"
      ]
     },
     "execution_count": 6,
     "metadata": {},
     "output_type": "execute_result"
    }
   ],
   "source": [
    "def swap (i,j,array):\n",
    "    array[i], array[j] = array[j], array[i]\n",
    "    \n",
    "def insertionSort(array):\n",
    "    for i in range(1, len(array)):\n",
    "        j = i\n",
    "        while j > 0 and array[j] < array[j-1]:\n",
    "            swap(j,j-1, array)\n",
    "            j-= 1\n",
    "    return array\n",
    "\n",
    "insertionSort([22,55,88,44,66,1,100,34,56])"
   ]
  },
  {
   "cell_type": "markdown",
   "metadata": {},
   "source": [
    "## Merge Sort"
   ]
  },
  {
   "cell_type": "markdown",
   "metadata": {},
   "source": [
    "#### How it Works"
   ]
  },
  {
   "cell_type": "code",
   "execution_count": 9,
   "metadata": {},
   "outputs": [
    {
     "name": "stdout",
     "output_type": "stream",
     "text": [
      "Splitting...  [12, 13, 1, 8, 11, 10, 17, 3, 0, 18]\n",
      "Splitting...  [12, 13, 1, 8, 11]\n",
      "Splitting...  [12, 13]\n",
      "Splitting...  [12]\n",
      "Merging...  [12]\n",
      "Splitting...  [13]\n",
      "Merging...  [13]\n",
      "Merging...  [12, 13]\n",
      "Splitting...  [1, 8, 11]\n",
      "Splitting...  [1]\n",
      "Merging...  [1]\n",
      "Splitting...  [8, 11]\n",
      "Splitting...  [8]\n",
      "Merging...  [8]\n",
      "Splitting...  [11]\n",
      "Merging...  [11]\n",
      "Merging...  [8, 11]\n",
      "Merging...  [1, 8, 11]\n",
      "Merging...  [1, 8, 11, 12, 13]\n",
      "Splitting...  [10, 17, 3, 0, 18]\n",
      "Splitting...  [10, 17]\n",
      "Splitting...  [10]\n",
      "Merging...  [10]\n",
      "Splitting...  [17]\n",
      "Merging...  [17]\n",
      "Merging...  [10, 17]\n",
      "Splitting...  [3, 0, 18]\n",
      "Splitting...  [3]\n",
      "Merging...  [3]\n",
      "Splitting...  [0, 18]\n",
      "Splitting...  [0]\n",
      "Merging...  [0]\n",
      "Splitting...  [18]\n",
      "Merging...  [18]\n",
      "Merging...  [0, 18]\n",
      "Merging...  [0, 3, 18]\n",
      "Merging...  [0, 3, 10, 17, 18]\n",
      "Merging...  [0, 1, 3, 8, 10, 11, 12, 13, 17, 18]\n"
     ]
    },
    {
     "data": {
      "text/plain": [
       "[0, 1, 3, 8, 10, 11, 12, 13, 17, 18]"
      ]
     },
     "execution_count": 9,
     "metadata": {},
     "output_type": "execute_result"
    }
   ],
   "source": [
    "#step 1: split everything into its own group\n",
    "#step 2: from left to right, merge two groups together\n",
    "#step 3: while merging place each item in correct position within the merged group\n",
    "#step 4: continue steps3-4 until only one group is left\n",
    "\n",
    "from random import randint\n",
    "#used to generate a random list of 5 numbers from 0 to 20\n",
    "nums = [randint(0,20) for i in range(10)]\n",
    "\n",
    "#write our merge sort below\n",
    "def mergeSort(alist):\n",
    "    print(\"Splitting... \", alist)\n",
    "    \n",
    "    #step 1, divide the array into equal parts as much as possible\n",
    "    if len(alist) > 1:\n",
    "        mid = len(alist) // 2\n",
    "        lefthalf = alist[:mid]\n",
    "        righthalf = alist[mid:]\n",
    "        \n",
    "        #recursively call mergeSort to perform splits if needed\n",
    "        #THEN merge once the splits are done\n",
    "        mergeSort(lefthalf)\n",
    "        mergeSort(righthalf)\n",
    "        \n",
    "        #index pointers for our list\n",
    "        i = 0 #pointer for our left half\n",
    "        j = 0 #pointer for our right half\n",
    "        k = 0 #pointer for our main array\n",
    "        \n",
    "        #step 2: Compare the left half and the right half\n",
    "        while i < len(lefthalf) and j < len(righthalf):\n",
    "            if lefthalf[i] < righthalf [j]:\n",
    "                alist[k] = lefthalf[i]\n",
    "                i = i + 1\n",
    "            else:\n",
    "                alist[k] = righthalf[j]\n",
    "                j = j + 1\n",
    "            k = k + 1\n",
    "            \n",
    "        #step 3, while merging place items in the correct positions\n",
    "        \n",
    "        \n",
    "        while i < len(lefthalf):\n",
    "            alist[k] = lefthalf [i]\n",
    "            i = i + 1\n",
    "            k = k + 1\n",
    "        while j < len(righthalf):\n",
    "            alist[k] = righthalf [j]\n",
    "            j = j + 1\n",
    "            k = k + 1\n",
    "    print(\"Merging... \", alist)\n",
    "    return alist\n",
    "mergeSort(nums)"
   ]
  },
  {
   "cell_type": "markdown",
   "metadata": {},
   "source": [
    "# Binary Search\n",
    "\n",
    "The Binary Search algorithm works by finding the number in the middle of a given array and comparing it to the target. Given that the array is sorted\n",
    "\n",
    "* The worst case run time for this algorithm is `O(log(n))`"
   ]
  },
  {
   "cell_type": "code",
   "execution_count": 10,
   "metadata": {},
   "outputs": [
    {
     "data": {
      "text/plain": [
       "'The index is ... 5'"
      ]
     },
     "execution_count": 10,
     "metadata": {},
     "output_type": "execute_result"
    }
   ],
   "source": [
    "# less = left\n",
    "# greater = right\n",
    "#list of numbers MUST be sorted()\n",
    "def binarySearchHelperFunction(array, target, left, right):\n",
    "    while left <= right:\n",
    "        middle = (left + right) // 2\n",
    "        potentialMatch = array[middle]\n",
    "        if target == potentialMatch:\n",
    "            return f'The index is ... {middle}'\n",
    "        elif target < potentialMatch:\n",
    "            right = middle - 1\n",
    "        else:\n",
    "            left = middle + 1\n",
    "    return -1\n",
    "\n",
    "def binarySearch(array, target):\n",
    "    return binarySearchHelperFunction(array, target, 0, len(array) -1)\n",
    "binarySearch ([0, 1, 3, 8, 10, 11, 12, 13, 17, 18],11)\n",
    "\n",
    "\n"
   ]
  },
  {
   "cell_type": "markdown",
   "metadata": {},
   "source": [
    "# Exercises"
   ]
  },
  {
   "cell_type": "markdown",
   "metadata": {},
   "source": [
    "### Exercise #1 <br>\n",
    "<p>Reverse the list below in-place using an in-place algorithm.<br>For extra credit: Reverse the strings at the same time.</p>"
   ]
  },
  {
   "cell_type": "code",
   "execution_count": 29,
   "metadata": {},
   "outputs": [
    {
     "name": "stdout",
     "output_type": "stream",
     "text": [
      "Before reverse ['this', 'is', 'a', 'sentence', '.']\n",
      "After reverse ['.', 'sentence', 'a', 'is', 'this']\n"
     ]
    }
   ],
   "source": [
    "words = ['this' , 'is', 'a', 'sentence', '.']\n",
    "print(\"Before reverse\", words)\n",
    "\n",
    "length = len(words) - 1\n",
    "\n",
    "for i in range(length // 2 + 1):\n",
    "    j = words[i]\n",
    "    words[i] = words[length - i]\n",
    "    words[length - i] = j\n",
    "\n",
    "print(\"After reverse\", words)\n"
   ]
  },
  {
   "cell_type": "markdown",
   "metadata": {},
   "source": [
    "### Exercise #2 <br>\n",
    "<p>Create a function that counts how many distinct words are in the string below, then outputs a dictionary with the words as the key and the value as the amount of times that word appears in the string.<br>Should output:<br>{'a': 5,<br>\n",
    " 'abstract': 1,<br>\n",
    " 'an': 3,<br>\n",
    " 'array': 2, ... etc...</p>"
   ]
  },
  {
   "cell_type": "code",
   "execution_count": 31,
   "metadata": {},
   "outputs": [
    {
     "name": "stdout",
     "output_type": "stream",
     "text": [
      "{'in': 1, 'computing,': 1, 'a': 5, 'hash': 4, 'table': 2, 'map': 2, 'is': 1, 'data': 2, 'structure': 2, 'which': 2, 'implements': 1, 'an': 3, 'associative': 1, 'array': 2, 'abstract': 1, 'type,': 1, 'that': 1, 'can': 2, 'keys': 1, 'to': 2, 'values.': 1, 'uses': 1, 'function': 1, 'compute': 1, 'index': 1, 'into': 1, 'of': 1, 'buckets': 1, 'or': 1, 'slots': 1, 'from': 1, 'the': 1, 'desired': 1, 'value': 1, 'be': 1, 'found': 1}\n"
     ]
    }
   ],
   "source": [
    "\n",
    "a_text = 'In computing, a hash table hash map is a data structure which implements an associative array abstract data type, a structure that can map keys to values. A hash table uses a hash function to compute an index into an array of buckets or slots from which the desired value can be found'\n",
    "import collections\n",
    "def f(words):\n",
    "    i = {}\n",
    "    \n",
    "    for x in words.split():\n",
    "        x = x.lower()\n",
    "        if x in i:\n",
    "            i[x] += 1\n",
    "        else:\n",
    "            i[x] = 1\n",
    "    return i\n",
    "\n",
    "\n",
    "print(f(a_text))\n",
    "\n"
   ]
  },
  {
   "cell_type": "markdown",
   "metadata": {},
   "source": [
    "## Exercise #3\n",
    "\n",
    "Write a program to implement a Linear Search Algorithm. Also in a comment, write the Time Complexity of the following algorithm.\n",
    "\n",
    "#### Hint: Linear Searching will require searching a list for a given number. "
   ]
  },
  {
   "cell_type": "code",
   "execution_count": 30,
   "metadata": {},
   "outputs": [
    {
     "name": "stdout",
     "output_type": "stream",
     "text": [
      "[14, 42, 33, 65, 70, 17, 45, 45, 21, 2, 48, 54, 37, 33, 58, 10, 70, 17, 30, 63, 63, 49, 50, 48, 10, 34, 44, 14, 36, 6, 33, 53, 14, 33, 8, 40, 50, 39, 2, 46, 6, 48, 68, 13, 13, 16, 34, 0, 6, 53, 40, 48, 61, 14, 65, 48, 2, 16, 44, 66, 22, 69, 55, 35, 48, 46, 6, 48, 68, 16, 60, 56, 32, 11, 32, 65, 27, 63, 24, 39, 22, 57, 36, 31, 40, 66, 63, 17, 70, 32, 16, 34, 45, 10, 59, 64, 46, 33, 14, 50]\n"
     ]
    },
    {
     "data": {
      "text/plain": [
       "[5, 17, 87]"
      ]
     },
     "execution_count": 30,
     "metadata": {},
     "output_type": "execute_result"
    }
   ],
   "source": [
    "import random\n",
    "i = []\n",
    "list_length = 100\n",
    "\n",
    "while list_length != 0:\n",
    "    list_length +=-1\n",
    "    i.append(random.randint(0,70))\n",
    "\n",
    "print(i)\n",
    "\n",
    "def search(list, target):\n",
    "    numbers = []\n",
    "    for x in range(len(i)):\n",
    "        if i[x] == target:\n",
    "            numbers.append(x)\n",
    "        else:\n",
    "            continue\n",
    "    return numbers\n",
    "\n",
    "    \n",
    "search(i,17)"
   ]
  },
  {
   "cell_type": "code",
   "execution_count": null,
   "metadata": {},
   "outputs": [],
   "source": []
  }
 ],
 "metadata": {
  "kernelspec": {
   "display_name": "Python 3 (ipykernel)",
   "language": "python",
   "name": "python3"
  },
  "language_info": {
   "codemirror_mode": {
    "name": "ipython",
    "version": 3
   },
   "file_extension": ".py",
   "mimetype": "text/x-python",
   "name": "python",
   "nbconvert_exporter": "python",
   "pygments_lexer": "ipython3",
   "version": "3.9.13"
  }
 },
 "nbformat": 4,
 "nbformat_minor": 2
}
